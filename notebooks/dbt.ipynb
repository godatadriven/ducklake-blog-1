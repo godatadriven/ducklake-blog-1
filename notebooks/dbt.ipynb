{
 "cells": [
  {
   "metadata": {},
   "cell_type": "code",
   "source": "%cd ../jaffle_shop",
   "id": "2073b1a6060755d3",
   "outputs": [],
   "execution_count": null
  },
  {
   "cell_type": "code",
   "id": "initial_id",
   "metadata": {
    "collapsed": true
   },
   "source": "!dbt build",
   "outputs": [],
   "execution_count": null
  },
  {
   "metadata": {},
   "cell_type": "code",
   "source": "!dbt show --inline \"SELECT * FROM unity.intermediate.orders\" --limit 50",
   "id": "8e5ab2a20b0563f5",
   "outputs": [],
   "execution_count": null
  }
 ],
 "metadata": {
  "kernelspec": {
   "display_name": "Python 3",
   "language": "python",
   "name": "python3"
  },
  "language_info": {
   "codemirror_mode": {
    "name": "ipython",
    "version": 2
   },
   "file_extension": ".py",
   "mimetype": "text/x-python",
   "name": "python",
   "nbconvert_exporter": "python",
   "pygments_lexer": "ipython2",
   "version": "2.7.6"
  }
 },
 "nbformat": 4,
 "nbformat_minor": 5
}
