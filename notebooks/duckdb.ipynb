{
 "cells": [
  {
   "cell_type": "code",
   "execution_count": null,
   "id": "fb0a32dcd3a96eab",
   "metadata": {},
   "outputs": [],
   "source": [
    "ATTACH 'unity' AS unity (TYPE UC_CATALOG);"
   ]
  },
  {
   "cell_type": "code",
   "execution_count": null,
   "id": "c660945a4f69ff0c",
   "metadata": {},
   "outputs": [],
   "source": [
    "SHOW ALL TABLES;"
   ]
  },
  {
   "cell_type": "code",
   "execution_count": null,
   "id": "a6fc387f1d6354d",
   "metadata": {},
   "outputs": [],
   "source": [
    "SELECT * FROM unity.intermediate.customers LIMIT 10;"
   ]
  },
  {
   "cell_type": "code",
   "execution_count": null,
   "id": "84a848570cae4eb7",
   "metadata": {},
   "outputs": [],
   "source": [
    "CREATE EXTERNAL TABLE unity.default.customers LOCATION '/home/ducklake/data/customers/' AS SELECT * FROM unity.intermediate.customers;"
   ]
  },
  {
   "cell_type": "code",
   "execution_count": null,
   "id": "a42e2bc9e0078c00",
   "metadata": {},
   "outputs": [],
   "source": [
    "SELECT * FROM unity.default.customers LIMIT 20;"
   ]
  },
  {
   "cell_type": "code",
   "execution_count": null,
   "id": "b6dec8b8-bdf1-438b-b28f-7bc283db107c",
   "metadata": {},
   "outputs": [],
   "source": [
    "DETACH DATABASE unity;"
   ]
  }
 ],
 "metadata": {
  "kernelspec": {
   "display_name": "Dunky",
   "language": "sql",
   "name": "dunky"
  },
  "language_info": {
   "codemirror_mode": "sql",
   "file_extension": ".sql",
   "mimetype": "text/x-sql",
   "name": "DuckDBSQL"
  }
 },
 "nbformat": 4,
 "nbformat_minor": 5
}
